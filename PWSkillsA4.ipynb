{
 "cells": [
  {
   "cell_type": "markdown",
   "metadata": {},
   "source": [
    "# Python OOPs Assignment\n"
   ]
  },
  {
   "cell_type": "markdown",
   "metadata": {},
   "source": [
    "## Theoretical Questions"
   ]
  },
  {
   "cell_type": "markdown",
   "metadata": {},
   "source": [
    "### What is Object-Oriented Programming (OOP)?\n",
    "\n",
    "OOP is a programming paradigm based on the concept of objects, which can contain data in the form of fields (attributes) and code in the form of procedures (methods). It enables modularity, reusability, and abstraction, making it easier to develop and maintain complex software."
   ]
  },
  {
   "cell_type": "markdown",
   "metadata": {},
   "source": [
    "### What is a class in OOP?\n",
    "\n",
    "A class is a blueprint or template for creating objects. It defines attributes and methods that the objects created from the class will have."
   ]
  },
  {
   "cell_type": "markdown",
   "metadata": {},
   "source": [
    "### What is an object in OOP?\n",
    "\n",
    "An object is an instance of a class. It is a concrete entity that has attributes (state) and behaviors (methods) defined by its class."
   ]
  },
  {
   "cell_type": "markdown",
   "metadata": {},
   "source": [
    "### What is the difference between abstraction and encapsulation?\n",
    "\n",
    "Abstraction hides the complexity of a system by exposing only the essential features. Encapsulation bundles data and methods that operate on that data into a single unit (class) and restricts direct access to some of the object's components."
   ]
  },
  {
   "cell_type": "markdown",
   "metadata": {},
   "source": [
    "### What are dunder methods in Python?\n",
    "\n",
    "Dunder (double underscore) methods, also called magic methods, are special methods in Python with names surrounded by double underscores. They enable customization of object behavior for built-in operations."
   ]
  },
  {
   "cell_type": "markdown",
   "metadata": {},
   "source": [
    "### Explain the concept of inheritance in OOP.\n",
    "\n",
    "Inheritance allows a class (child class) to acquire properties and behaviors of another class (parent class). This promotes code reuse and a hierarchical class structure.\n"
   ]
  },
  {
   "cell_type": "markdown",
   "metadata": {},
   "source": [
    "### What is polymorphism in OOP?\n",
    "\n",
    "Polymorphism allows methods to have different implementations based on the object on which they are called. It is achieved via method overriding or method overloading."
   ]
  },
  {
   "cell_type": "markdown",
   "metadata": {},
   "source": [
    "### How is encapsulation achieved in Python?\n",
    "\n",
    "It is achieved using access modifiers, public, private(__), protected(_)"
   ]
  },
  {
   "cell_type": "markdown",
   "metadata": {},
   "source": [
    "### What is a constructor in Python?\n",
    "\n",
    "A constructor is a special method (__init__) in Python used to initialize the attributes of an object when it is created."
   ]
  },
  {
   "cell_type": "markdown",
   "metadata": {},
   "source": [
    "### What are class and static methods in Python?\n",
    "\n",
    "Class methods (@classmethod) operate on the class itself and can access class variables. Static methods (@staticmethod) do not depend on the class or instance and act as utility methods"
   ]
  },
  {
   "cell_type": "markdown",
   "metadata": {},
   "source": [
    "### What is method overloading in Python?\n",
    "\n",
    "Method overloading allows a class to have multiple methods with the same name but different parameters. In Python, it is achieved using default arguments."
   ]
  },
  {
   "cell_type": "markdown",
   "metadata": {},
   "source": [
    "### What is method overriding in OOP?\n",
    "\n",
    "Method overriding allows a child class to provide a specific implementation of a method that is already defined in its parent class."
   ]
  },
  {
   "cell_type": "markdown",
   "metadata": {},
   "source": [
    "### What is a property decorator in Python?\n",
    "\n",
    "The @property decorator is used to define a method as a property, allowing access to it like an attribute while encapsulating the logic."
   ]
  },
  {
   "cell_type": "markdown",
   "metadata": {},
   "source": [
    "### Why is polymorphism important in OOP?\n",
    "\n",
    "Polymorphism improves flexibility and maintainability by allowing the same interface to be used for different data types or classes."
   ]
  },
  {
   "cell_type": "markdown",
   "metadata": {},
   "source": [
    "### What is an abstract class in Python?\n",
    "\n",
    "An abstract class is a class with at least one abstract method (defined using @abstractmethod). It cannot be instantiated and is used to define a common interface for derived classes."
   ]
  },
  {
   "cell_type": "markdown",
   "metadata": {},
   "source": [
    "### What are the advantages of OOP?\n",
    "\n",
    "Code reusability through inheritance.\n",
    "Scalability via modularity.\n",
    "Maintainability with encapsulation.\n",
    "Flexibility with polymorphism."
   ]
  },
  {
   "cell_type": "markdown",
   "metadata": {},
   "source": [
    "### What is the difference between a class variable and an instance variable?\n",
    "\n",
    "Class variable: Shared across all instances of a class.\n",
    "Instance variable: Unique to each object of the class"
   ]
  },
  {
   "cell_type": "markdown",
   "metadata": {},
   "source": [
    "### What is multiple inheritance in Python?\n",
    "\n",
    "Multiple inheritance allows a class to inherit attributes and methods from more than one parent class."
   ]
  },
  {
   "cell_type": "markdown",
   "metadata": {},
   "source": [
    "### Explain the purpose of `__str__` and `__repr__` methods in Python.\n",
    "__str__: Returns a user-friendly string representation of an object.\n",
    "__repr__: Returns an unambiguous string representation of an object (used for debugging).\n"
   ]
  },
  {
   "cell_type": "markdown",
   "metadata": {},
   "source": [
    "### What is the significance of the `super()` function in Python?\n",
    "\n",
    "The super() function allows a child class to call a method from its parent class, commonly used to initialize parent class attributes."
   ]
  },
  {
   "cell_type": "markdown",
   "metadata": {},
   "source": [
    "### What is the significance of the `__del__` method in Python?\n",
    "\n",
    "The __del__ method is a destructor called when an object is about to be destroyed, used for cleanup."
   ]
  },
  {
   "cell_type": "markdown",
   "metadata": {},
   "source": [
    "### What is the difference between `@staticmethod` and `@classmethod` in Python?\n",
    "\n",
    "@staticmethod: Does not require a reference to the class or instance.\n",
    "@classmethod: Requires a reference to the class (cls) and can modify class state."
   ]
  },
  {
   "cell_type": "markdown",
   "metadata": {},
   "source": [
    "### How does polymorphism work in Python with inheritance?\n",
    "\n",
    "In Python, polymorphism is achieved through method overriding, where a child class redefines a method from the parent class to provide a different behavior."
   ]
  },
  {
   "cell_type": "markdown",
   "metadata": {},
   "source": [
    "### What is method chaining in Python OOP?\n",
    "\n",
    "Method chaining allows multiple methods to be called on the same object in a single statement, achieved by returning self from each method."
   ]
  },
  {
   "cell_type": "markdown",
   "metadata": {},
   "source": [
    "### What is the purpose of the `__call__` method in Python?\n",
    "\n",
    "The __call__ method allows an object to be called as if it were a function, enabling instances of a class to behave like functions."
   ]
  },
  {
   "cell_type": "markdown",
   "metadata": {},
   "source": [
    "## Practical Questions"
   ]
  },
  {
   "cell_type": "markdown",
   "metadata": {},
   "source": [
    "### Create a parent class `Animal` with a method `speak()` that prints a generic message. Create a child class `Dog` that overrides the `speak()` method to print 'Bark!'."
   ]
  },
  {
   "cell_type": "code",
   "execution_count": 1,
   "metadata": {},
   "outputs": [
    {
     "name": "stdout",
     "output_type": "stream",
     "text": [
      "Bark!\n"
     ]
    }
   ],
   "source": [
    "class Animal:\n",
    "    def speak(self):\n",
    "        print(\"This is a generic animal sound.\")\n",
    "\n",
    "class Dog(Animal):\n",
    "    def speak(self):\n",
    "        print(\"Bark!\")\n",
    "\n",
    "# Example usage\n",
    "d = Dog()\n",
    "d.speak()"
   ]
  },
  {
   "cell_type": "markdown",
   "metadata": {},
   "source": [
    "### Write a program to create an abstract class `Shape` with a method `area()`. Derive classes `Circle` and `Rectangle` from it and implement the `area()` method in both."
   ]
  },
  {
   "cell_type": "code",
   "execution_count": 2,
   "metadata": {},
   "outputs": [
    {
     "name": "stdout",
     "output_type": "stream",
     "text": [
      "Circle Area: 78.5\n",
      "Rectangle Area: 24\n"
     ]
    }
   ],
   "source": [
    "from abc import ABC, abstractmethod\n",
    "\n",
    "class Shape(ABC):\n",
    "    @abstractmethod\n",
    "    def area(self):\n",
    "        pass\n",
    "\n",
    "class Circle(Shape):\n",
    "    def __init__(self, radius):\n",
    "        self.radius = radius\n",
    "\n",
    "    def area(self):\n",
    "        return 3.14 * self.radius ** 2\n",
    "\n",
    "class Rectangle(Shape):\n",
    "    def __init__(self, length, breadth):\n",
    "        self.length = length\n",
    "        self.breadth = breadth\n",
    "\n",
    "    def area(self):\n",
    "        return self.length * self.breadth\n",
    "\n",
    "# Example usage\n",
    "circle = Circle(5)\n",
    "rectangle = Rectangle(4, 6)\n",
    "print(\"Circle Area:\", circle.area())\n",
    "print(\"Rectangle Area:\", rectangle.area())"
   ]
  },
  {
   "cell_type": "markdown",
   "metadata": {},
   "source": [
    "### Implement a multi-level inheritance scenario where a class `Vehicle` has an attribute `type`. Derive a class `Car` and further derive a class `ElectricCar` that adds a `battery` attribute."
   ]
  },
  {
   "cell_type": "code",
   "execution_count": 3,
   "metadata": {},
   "outputs": [
    {
     "name": "stdout",
     "output_type": "stream",
     "text": [
      "Car Tesla 100 kWh\n"
     ]
    }
   ],
   "source": [
    "class Vehicle:\n",
    "    def __init__(self, vehicle_type):\n",
    "        self.type = vehicle_type\n",
    "\n",
    "class Car(Vehicle):\n",
    "    def __init__(self, vehicle_type, brand):\n",
    "        super().__init__(vehicle_type)\n",
    "        self.brand = brand\n",
    "\n",
    "class ElectricCar(Car):\n",
    "    def __init__(self, vehicle_type, brand, battery):\n",
    "        super().__init__(vehicle_type, brand)\n",
    "        self.battery = battery\n",
    "\n",
    "e_car = ElectricCar(\"Car\", \"Tesla\", \"100 kWh\")\n",
    "print(e_car.type, e_car.brand, e_car.battery)\n"
   ]
  },
  {
   "cell_type": "markdown",
   "metadata": {},
   "source": [
    "### Write a program to demonstrate encapsulation by creating a class BankAccount with private attributes balance and methods to deposit, withdraw, and check balance."
   ]
  },
  {
   "cell_type": "code",
   "execution_count": 4,
   "metadata": {},
   "outputs": [
    {
     "name": "stdout",
     "output_type": "stream",
     "text": [
      "120\n"
     ]
    }
   ],
   "source": [
    "class BankAccount:\n",
    "    def __init__(self, balance=0):\n",
    "        self.__balance = balance\n",
    "\n",
    "    def deposit(self, amount):\n",
    "        self.__balance += amount\n",
    "\n",
    "    def withdraw(self, amount):\n",
    "        if amount <= self.__balance:\n",
    "            self.__balance -= amount\n",
    "\n",
    "    def get_balance(self):\n",
    "        return self.__balance\n",
    "\n",
    "account = BankAccount(100)\n",
    "account.deposit(50)\n",
    "account.withdraw(30)\n",
    "print(account.get_balance())\n"
   ]
  },
  {
   "cell_type": "markdown",
   "metadata": {},
   "source": [
    "### Demonstrate runtime polymorphism using a method play() in a base class Instrument. Derive classes Guitar and Piano that implement their own version of play()."
   ]
  },
  {
   "cell_type": "code",
   "execution_count": 5,
   "metadata": {},
   "outputs": [
    {
     "name": "stdout",
     "output_type": "stream",
     "text": [
      "Playing Guitar\n",
      "Playing Piano\n"
     ]
    }
   ],
   "source": [
    "class Instrument:\n",
    "    def play(self):\n",
    "        pass\n",
    "\n",
    "class Guitar(Instrument):\n",
    "    def play(self):\n",
    "        print(\"Playing Guitar\")\n",
    "\n",
    "class Piano(Instrument):\n",
    "    def play(self):\n",
    "        print(\"Playing Piano\")\n",
    "\n",
    "g = Guitar()\n",
    "p = Piano()\n",
    "g.play()\n",
    "p.play()\n"
   ]
  },
  {
   "cell_type": "markdown",
   "metadata": {},
   "source": [
    "### Create a class MathOperations with a class method add_numbers() to add two numbers and a static method subtract_numbers() to subtract two numbers."
   ]
  },
  {
   "cell_type": "code",
   "execution_count": 6,
   "metadata": {},
   "outputs": [
    {
     "name": "stdout",
     "output_type": "stream",
     "text": [
      "15\n",
      "5\n"
     ]
    }
   ],
   "source": [
    "class MathOperations:\n",
    "    @classmethod\n",
    "    def add_numbers(cls, a, b):\n",
    "        return a + b\n",
    "\n",
    "    @staticmethod\n",
    "    def subtract_numbers(a, b):\n",
    "        return a - b\n",
    "\n",
    "print(MathOperations.add_numbers(10, 5))\n",
    "print(MathOperations.subtract_numbers(10, 5))\n"
   ]
  },
  {
   "cell_type": "markdown",
   "metadata": {},
   "source": [
    "### Implement a class Person with a class method to count the total number of persons created."
   ]
  },
  {
   "cell_type": "code",
   "execution_count": 7,
   "metadata": {},
   "outputs": [
    {
     "name": "stdout",
     "output_type": "stream",
     "text": [
      "2\n"
     ]
    }
   ],
   "source": [
    "class Person:\n",
    "    count = 0\n",
    "\n",
    "    def __init__(self):\n",
    "        Person.count += 1\n",
    "\n",
    "    @classmethod\n",
    "    def total_persons(cls):\n",
    "        return cls.count\n",
    "\n",
    "p1 = Person()\n",
    "p2 = Person()\n",
    "print(Person.total_persons())\n"
   ]
  },
  {
   "cell_type": "markdown",
   "metadata": {},
   "source": [
    "### Write a class Fraction with attributes numerator and denominator. Override the __str__ method to display the fraction as \"numerator/denominator\"."
   ]
  },
  {
   "cell_type": "code",
   "execution_count": 8,
   "metadata": {},
   "outputs": [
    {
     "name": "stdout",
     "output_type": "stream",
     "text": [
      "3/4\n"
     ]
    }
   ],
   "source": [
    "class Fraction:\n",
    "    def __init__(self, numerator, denominator):\n",
    "        self.numerator = numerator\n",
    "        self.denominator = denominator\n",
    "\n",
    "    def __str__(self):\n",
    "        return f\"{self.numerator}/{self.denominator}\"\n",
    "\n",
    "f = Fraction(3, 4)\n",
    "print(f)\n"
   ]
  },
  {
   "cell_type": "markdown",
   "metadata": {},
   "source": [
    "### Demonstrate operator overloading by creating a class Vector and overriding the __add__ method to add two vectors."
   ]
  },
  {
   "cell_type": "code",
   "execution_count": 9,
   "metadata": {},
   "outputs": [
    {
     "name": "stdout",
     "output_type": "stream",
     "text": [
      "Vector(4, 6)\n"
     ]
    }
   ],
   "source": [
    "class Vector:\n",
    "    def __init__(self, x, y):\n",
    "        self.x = x\n",
    "        self.y = y\n",
    "\n",
    "    def __add__(self, other):\n",
    "        return Vector(self.x + other.x, self.y + other.y)\n",
    "\n",
    "    def __str__(self):\n",
    "        return f\"Vector({self.x}, {self.y})\"\n",
    "\n",
    "v1 = Vector(1, 2)\n",
    "v2 = Vector(3, 4)\n",
    "v3 = v1 + v2\n",
    "print(v3)\n"
   ]
  },
  {
   "cell_type": "markdown",
   "metadata": {},
   "source": [
    "### Create a class Person with attributes name and age. Add a method greet() that prints \"Hello, my name is {name} and I am {age} years old.\""
   ]
  },
  {
   "cell_type": "code",
   "execution_count": 10,
   "metadata": {},
   "outputs": [
    {
     "name": "stdout",
     "output_type": "stream",
     "text": [
      "Hello, my name is Alice and I am 30 years old.\n"
     ]
    }
   ],
   "source": [
    "class Person:\n",
    "    def __init__(self, name, age):\n",
    "        self.name = name\n",
    "        self.age = age\n",
    "\n",
    "    def greet(self):\n",
    "        print(f\"Hello, my name is {self.name} and I am {self.age} years old.\")\n",
    "\n",
    "p = Person(\"Alice\", 30)\n",
    "p.greet()\n"
   ]
  },
  {
   "cell_type": "markdown",
   "metadata": {},
   "source": [
    "### Implement a class Student with attributes name and grades. Create a method average_grade() to compute the average of the grades."
   ]
  },
  {
   "cell_type": "code",
   "execution_count": 11,
   "metadata": {},
   "outputs": [
    {
     "name": "stdout",
     "output_type": "stream",
     "text": [
      "84.33333333333333\n"
     ]
    }
   ],
   "source": [
    "class Student:\n",
    "    def __init__(self, name, grades):\n",
    "        self.name = name\n",
    "        self.grades = grades\n",
    "\n",
    "    def average_grade(self):\n",
    "        return sum(self.grades) / len(self.grades)\n",
    "\n",
    "s = Student(\"Bob\", [85, 90, 78])\n",
    "print(s.average_grade())\n"
   ]
  },
  {
   "cell_type": "markdown",
   "metadata": {},
   "source": [
    "### Create a class Rectangle with methods set_dimensions() to set the dimensions and area() to calculate the area."
   ]
  },
  {
   "cell_type": "code",
   "execution_count": 12,
   "metadata": {},
   "outputs": [
    {
     "name": "stdout",
     "output_type": "stream",
     "text": [
      "20\n"
     ]
    }
   ],
   "source": [
    "class Rectangle:\n",
    "    def set_dimensions(self, length, breadth):\n",
    "        self.length = length\n",
    "        self.breadth = breadth\n",
    "\n",
    "    def area(self):\n",
    "        return self.length * self.breadth\n",
    "\n",
    "r = Rectangle()\n",
    "r.set_dimensions(4, 5)\n",
    "print(r.area())\n"
   ]
  },
  {
   "cell_type": "markdown",
   "metadata": {},
   "source": [
    "### Create a class Employee with a method calculate_salary() that computes the salary based on hours worked and hourly rate. Create a derived class Manager that adds a bonus to the salary."
   ]
  },
  {
   "cell_type": "code",
   "execution_count": 13,
   "metadata": {},
   "outputs": [
    {
     "name": "stdout",
     "output_type": "stream",
     "text": [
      "2500\n"
     ]
    }
   ],
   "source": [
    "class Employee:\n",
    "    def calculate_salary(self, hours, rate):\n",
    "        return hours * rate\n",
    "\n",
    "class Manager(Employee):\n",
    "    def calculate_salary(self, hours, rate, bonus):\n",
    "        return super().calculate_salary(hours, rate) + bonus\n",
    "\n",
    "m = Manager()\n",
    "print(m.calculate_salary(40, 50, 500))\n"
   ]
  },
  {
   "cell_type": "markdown",
   "metadata": {},
   "source": [
    "### Create a class Product with attributes name, price, and quantity. Implement a method total_price() that calculates the total price of the product."
   ]
  },
  {
   "cell_type": "code",
   "execution_count": 14,
   "metadata": {},
   "outputs": [
    {
     "name": "stdout",
     "output_type": "stream",
     "text": [
      "3000\n"
     ]
    }
   ],
   "source": [
    "class Product:\n",
    "    def __init__(self, name, price, quantity):\n",
    "        self.name = name\n",
    "        self.price = price\n",
    "        self.quantity = quantity\n",
    "\n",
    "    def total_price(self):\n",
    "        return self.price * self.quantity\n",
    "\n",
    "p = Product(\"Laptop\", 1000, 3)\n",
    "print(p.total_price())\n"
   ]
  },
  {
   "cell_type": "markdown",
   "metadata": {},
   "source": [
    "### Create a class Animal with an abstract method sound(). Create two derived classes Cow and Sheep that implement the sound() method."
   ]
  },
  {
   "cell_type": "code",
   "execution_count": 15,
   "metadata": {},
   "outputs": [
    {
     "name": "stdout",
     "output_type": "stream",
     "text": [
      "Moo\n",
      "Baa\n"
     ]
    }
   ],
   "source": [
    "from abc import ABC, abstractmethod\n",
    "\n",
    "class Animal(ABC):\n",
    "    @abstractmethod\n",
    "    def sound(self):\n",
    "        pass\n",
    "\n",
    "class Cow(Animal):\n",
    "    def sound(self):\n",
    "        print(\"Moo\")\n",
    "\n",
    "class Sheep(Animal):\n",
    "    def sound(self):\n",
    "        print(\"Baa\")\n",
    "\n",
    "c = Cow()\n",
    "s = Sheep()\n",
    "c.sound()\n",
    "s.sound()\n"
   ]
  },
  {
   "cell_type": "markdown",
   "metadata": {},
   "source": [
    "### Create a class Book with attributes title, author, and year_published. Add a method get_book_info() that returns a formatted string with the book's details."
   ]
  },
  {
   "cell_type": "code",
   "execution_count": 16,
   "metadata": {},
   "outputs": [
    {
     "name": "stdout",
     "output_type": "stream",
     "text": [
      "1984 by George Orwell, published in 1949\n"
     ]
    }
   ],
   "source": [
    "class Book:\n",
    "    def __init__(self, title, author, year_published):\n",
    "        self.title = title\n",
    "        self.author = author\n",
    "        self.year_published = year_published\n",
    "\n",
    "    def get_book_info(self):\n",
    "        return f\"{self.title} by {self.author}, published in {self.year_published}\"\n",
    "\n",
    "b = Book(\"1984\", \"George Orwell\", 1949)\n",
    "print(b.get_book_info())\n"
   ]
  },
  {
   "cell_type": "markdown",
   "metadata": {},
   "source": [
    "### Create a class House with attributes address and price. Create a derived class Mansion that adds an attribute number_of_rooms."
   ]
  },
  {
   "cell_type": "code",
   "execution_count": 17,
   "metadata": {},
   "outputs": [
    {
     "name": "stdout",
     "output_type": "stream",
     "text": [
      "123 Main St 1000000 10\n"
     ]
    }
   ],
   "source": [
    "class House:\n",
    "    def __init__(self, address, price):\n",
    "        self.address = address\n",
    "        self.price = price\n",
    "\n",
    "class Mansion(House):\n",
    "    def __init__(self, address, price, number_of_rooms):\n",
    "        super().__init__(address, price)\n",
    "        self.number_of_rooms = number_of_rooms\n",
    "\n",
    "m = Mansion(\"123 Main St\", 1000000, 10)\n",
    "print(m.address, m.price, m.number_of_rooms)\n"
   ]
  },
  {
   "cell_type": "code",
   "execution_count": null,
   "metadata": {},
   "outputs": [],
   "source": []
  }
 ],
 "metadata": {
  "kernelspec": {
   "display_name": "Python 3 (ipykernel)",
   "language": "python",
   "name": "python3"
  },
  "language_info": {
   "codemirror_mode": {
    "name": "ipython",
    "version": 3
   },
   "file_extension": ".py",
   "mimetype": "text/x-python",
   "name": "python",
   "nbconvert_exporter": "python",
   "pygments_lexer": "ipython3",
   "version": "3.12.3"
  }
 },
 "nbformat": 4,
 "nbformat_minor": 4
}
